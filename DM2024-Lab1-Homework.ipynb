{
 "cells": [
  {
   "cell_type": "markdown",
   "metadata": {},
   "source": [
    "### Student Information\n",
    "Name: 林育丞\n",
    "\n",
    "Student ID: 112062595\n",
    "\n",
    "GitHub ID: ryonaya"
   ]
  },
  {
   "cell_type": "markdown",
   "metadata": {},
   "source": [
    "---"
   ]
  },
  {
   "cell_type": "markdown",
   "metadata": {},
   "source": [
    "### Instructions"
   ]
  },
  {
   "cell_type": "markdown",
   "metadata": {},
   "source": [
    "1. First: do the **take home** exercises in the [DM2024-Lab1-Master](https://github.com/didiersalazar/DM2024-Lab1-Master.git). You may need to copy some cells from the Lab notebook to this notebook. __This part is worth 20% of your grade.__\n",
    "\n",
    "\n",
    "2. Second: follow the same process from the [DM2024-Lab1-Master](https://github.com/didiersalazar/DM2024-Lab1-Master.git) on **the new dataset**. You don't need to explain all details as we did (some **minimal comments** explaining your code are useful though).  __This part is worth 30% of your grade.__\n",
    "    - Download the [the new dataset](https://huggingface.co/datasets/Senem/Nostalgic_Sentiment_Analysis_of_YouTube_Comments_Data). The dataset contains a `sentiment` and `comment` columns, with the sentiment labels being: 'nostalgia' and 'not nostalgia'. Read the specificiations of the dataset for background details. \n",
    "    - You are allowed to use and modify the `helper` functions in the folder of the first lab session (notice they may need modification) or create your own.\n",
    "\n",
    "\n",
    "3. Third: please attempt the following tasks on **the new dataset**. __This part is worth 30% of your grade.__\n",
    "    - Generate meaningful **new data visualizations**. Refer to online resources and the Data Mining textbook for inspiration and ideas. \n",
    "    - Generate **TF-IDF features** from the tokens of each text. This will generating a document matrix, however, the weights will be computed differently (using the TF-IDF value of each word per document as opposed to the word frequency). Refer to this Scikit-learn [guide](http://scikit-learn.org/stable/modules/generated/sklearn.feature_extraction.text.TfidfVectorizer.html) .\n",
    "    - Implement a simple **Naive Bayes classifier** that automatically classifies the records into their categories. Use both the TF-IDF features and word frequency features to build two seperate classifiers. Note that for the TF-IDF features you might need to use other type of NB classifier different than the one in the Master Notebook. Comment on the differences.  Refer to this [article](https://hub.packtpub.com/implementing-3-naive-bayes-classifiers-in-scikit-learn/).\n",
    "\n",
    "\n",
    "4. Fourth: In the lab, we applied each step really quickly just to illustrate how to work with your dataset. There are somethings that are not ideal or the most efficient/meaningful. Each dataset can be handled differently as well. What are those inefficent parts you noticed? How can you improve the Data preprocessing for these specific datasets? __This part is worth 10% of your grade.__\n",
    "\n",
    "\n",
    "5. Fifth: It's hard for us to follow if your code is messy, so please **tidy up your notebook** and **add minimal comments where needed**. __This part is worth 10% of your grade.__\n",
    "\n",
    "\n",
    "You can submit your homework following these guidelines: [Git Intro & How to hand your homework](https://github.com/didiersalazar/DM2024-Lab1-Master/blob/main/Git%20Intro%20%26%20How%20to%20hand%20your%20homework.ipynb). Make sure to commit and save your changes to your repository __BEFORE the deadline (October 27th 11:59 pm, Sunday)__. "
   ]
  },
  {
   "cell_type": "markdown",
   "metadata": {},
   "source": [
    "### Pre-setup for Exercises"
   ]
  },
  {
   "cell_type": "code",
   "execution_count": 31,
   "metadata": {},
   "outputs": [],
   "source": [
    "from sklearn.datasets import fetch_20newsgroups\n",
    "categories = ['alt.atheism', 'soc.religion.christian', 'comp.graphics', 'sci.med']\n",
    "twenty_train = fetch_20newsgroups(subset='train', categories=categories,\n",
    "                                  shuffle=True, random_state=42) \n",
    "\n",
    "import pandas as pd\n",
    "import helpers.data_mining_helpers as dmh\n",
    "X = pd.DataFrame.from_records(dmh.format_rows(twenty_train), columns= ['text'])\n",
    "X['category'] = twenty_train.target\n",
    "X['category_name'] = X.category.apply(lambda t: dmh.format_labels(t, twenty_train))\n",
    "\n",
    "import matplotlib.pyplot as plt\n",
    "%matplotlib inline\n",
    "\n",
    "from sklearn.feature_extraction.text import CountVectorizer\n",
    "count_vect = CountVectorizer()\n",
    "X_counts = count_vect.fit_transform(X.text) #learn the vocabulary and return document-term matrix\n",
    "\n",
    "import seaborn as sns\n",
    "import plotly.graph_objs as go\n",
    "import numpy as np\n",
    "\n",
    "term_frequencies = np.asarray(X_counts.sum(axis=0))[0]\n",
    "\n",
    "# sort term frequencies with the feature names\n",
    "paired_values = list(zip(count_vect.get_feature_names_out(), term_frequencies))\n",
    "sorted_paired_values = sorted(paired_values, key=lambda x: x[1], reverse=True)\n",
    "\n",
    "import math\n",
    "term_frequencies_log = [math.log(i) for i in term_frequencies]\n"
   ]
  },
  {
   "cell_type": "markdown",
   "metadata": {},
   "source": [
    "### Exercise 2 (take home):"
   ]
  },
  {
   "cell_type": "code",
   "execution_count": 5,
   "metadata": {},
   "outputs": [
    {
     "data": {
      "text/html": [
       "<div>\n",
       "<style scoped>\n",
       "    .dataframe tbody tr th:only-of-type {\n",
       "        vertical-align: middle;\n",
       "    }\n",
       "\n",
       "    .dataframe tbody tr th {\n",
       "        vertical-align: top;\n",
       "    }\n",
       "\n",
       "    .dataframe thead th {\n",
       "        text-align: right;\n",
       "    }\n",
       "</style>\n",
       "<table border=\"1\" class=\"dataframe\">\n",
       "  <thead>\n",
       "    <tr style=\"text-align: right;\">\n",
       "      <th></th>\n",
       "      <th>text</th>\n",
       "      <th>category</th>\n",
       "      <th>category_name</th>\n",
       "    </tr>\n",
       "  </thead>\n",
       "  <tbody>\n",
       "    <tr>\n",
       "      <th>0</th>\n",
       "      <td>From: sd345@city.ac.uk (Michael Collier) Subje...</td>\n",
       "      <td>1</td>\n",
       "      <td>comp.graphics</td>\n",
       "    </tr>\n",
       "    <tr>\n",
       "      <th>1</th>\n",
       "      <td>From: ani@ms.uky.edu (Aniruddha B. Deglurkar) ...</td>\n",
       "      <td>1</td>\n",
       "      <td>comp.graphics</td>\n",
       "    </tr>\n",
       "    <tr>\n",
       "      <th>2</th>\n",
       "      <td>From: djohnson@cs.ucsd.edu (Darin Johnson) Sub...</td>\n",
       "      <td>3</td>\n",
       "      <td>soc.religion.christian</td>\n",
       "    </tr>\n",
       "    <tr>\n",
       "      <th>3</th>\n",
       "      <td>From: s0612596@let.rug.nl (M.M. Zwart) Subject...</td>\n",
       "      <td>3</td>\n",
       "      <td>soc.religion.christian</td>\n",
       "    </tr>\n",
       "    <tr>\n",
       "      <th>4</th>\n",
       "      <td>From: stanly@grok11.columbiasc.ncr.com (stanly...</td>\n",
       "      <td>3</td>\n",
       "      <td>soc.religion.christian</td>\n",
       "    </tr>\n",
       "    <tr>\n",
       "      <th>5</th>\n",
       "      <td>From: vbv@lor.eeap.cwru.edu (Virgilio (Dean) B...</td>\n",
       "      <td>3</td>\n",
       "      <td>soc.religion.christian</td>\n",
       "    </tr>\n",
       "    <tr>\n",
       "      <th>6</th>\n",
       "      <td>From: jodfishe@silver.ucs.indiana.edu (joseph ...</td>\n",
       "      <td>3</td>\n",
       "      <td>soc.religion.christian</td>\n",
       "    </tr>\n",
       "    <tr>\n",
       "      <th>7</th>\n",
       "      <td>From: aldridge@netcom.com (Jacquelin Aldridge)...</td>\n",
       "      <td>2</td>\n",
       "      <td>sci.med</td>\n",
       "    </tr>\n",
       "    <tr>\n",
       "      <th>8</th>\n",
       "      <td>From: geb@cs.pitt.edu (Gordon Banks) Subject: ...</td>\n",
       "      <td>2</td>\n",
       "      <td>sci.med</td>\n",
       "    </tr>\n",
       "    <tr>\n",
       "      <th>9</th>\n",
       "      <td>From: libman@hsc.usc.edu (Marlena Libman) Subj...</td>\n",
       "      <td>2</td>\n",
       "      <td>sci.med</td>\n",
       "    </tr>\n",
       "    <tr>\n",
       "      <th>10</th>\n",
       "      <td>From: anasaz!karl@anasazi.com (Karl Dussik) Su...</td>\n",
       "      <td>3</td>\n",
       "      <td>soc.religion.christian</td>\n",
       "    </tr>\n",
       "  </tbody>\n",
       "</table>\n",
       "</div>"
      ],
      "text/plain": [
       "                                                 text  category  \\\n",
       "0   From: sd345@city.ac.uk (Michael Collier) Subje...         1   \n",
       "1   From: ani@ms.uky.edu (Aniruddha B. Deglurkar) ...         1   \n",
       "2   From: djohnson@cs.ucsd.edu (Darin Johnson) Sub...         3   \n",
       "3   From: s0612596@let.rug.nl (M.M. Zwart) Subject...         3   \n",
       "4   From: stanly@grok11.columbiasc.ncr.com (stanly...         3   \n",
       "5   From: vbv@lor.eeap.cwru.edu (Virgilio (Dean) B...         3   \n",
       "6   From: jodfishe@silver.ucs.indiana.edu (joseph ...         3   \n",
       "7   From: aldridge@netcom.com (Jacquelin Aldridge)...         2   \n",
       "8   From: geb@cs.pitt.edu (Gordon Banks) Subject: ...         2   \n",
       "9   From: libman@hsc.usc.edu (Marlena Libman) Subj...         2   \n",
       "10  From: anasaz!karl@anasazi.com (Karl Dussik) Su...         3   \n",
       "\n",
       "             category_name  \n",
       "0            comp.graphics  \n",
       "1            comp.graphics  \n",
       "2   soc.religion.christian  \n",
       "3   soc.religion.christian  \n",
       "4   soc.religion.christian  \n",
       "5   soc.religion.christian  \n",
       "6   soc.religion.christian  \n",
       "7                  sci.med  \n",
       "8                  sci.med  \n",
       "9                  sci.med  \n",
       "10  soc.religion.christian  "
      ]
     },
     "execution_count": 5,
     "metadata": {},
     "output_type": "execute_result"
    }
   ],
   "source": [
    "X.loc[:10, [t for t in X.columns]]"
   ]
  },
  {
   "cell_type": "markdown",
   "metadata": {},
   "source": [
    "### Exercise 5 (take home)"
   ]
  },
  {
   "cell_type": "markdown",
   "metadata": {},
   "source": [
    "Answer here <br>\n",
    "```markdown\n",
    "np.nan, None, missing column are considered as null values \n",
    "'NaN', 'None' are valid entries but displayed like np.nan and None\n",
    "'' empty string is valid and display nothing"
   ]
  },
  {
   "cell_type": "markdown",
   "metadata": {},
   "source": [
    "### Exercise 6 (take home):"
   ]
  },
  {
   "cell_type": "markdown",
   "metadata": {},
   "source": [
    "Answer here\n",
    "```markdown\n",
    "The entries are randomly drawn from the original dataset\n",
    "It's a subset of the original dataset\n",
    "The index is not ordered"
   ]
  },
  {
   "cell_type": "markdown",
   "metadata": {},
   "source": [
    "### Exercise 8 (take home):"
   ]
  },
  {
   "cell_type": "code",
   "execution_count": 7,
   "metadata": {},
   "outputs": [
    {
     "data": {
      "text/plain": [
       "<Axes: title={'center': 'Category distribution'}, xlabel='category_name'>"
      ]
     },
     "execution_count": 7,
     "metadata": {},
     "output_type": "execute_result"
    },
    {
     "data": {
      "image/png": "[encoded data removed]",
      "text/plain": [
       "<Figure size 800x300 with 1 Axes>"
      ]
     },
     "metadata": {},
     "output_type": "display_data"
    }
   ],
   "source": [
    "# Answer here\n",
    "# comparison of X and X_sample in the same plot, using different colors\n",
    "fig, ax = plt.subplots()\n",
    "X_sample = X.sample(n=1000) #random state\n",
    "upper_bound = X.category_name.value_counts().max() + 35\n",
    "\n",
    "X.category_name.value_counts().plot(kind = 'bar', \n",
    "                                    color='skyblue', \n",
    "                                    ax = ax, \n",
    "                                    width = 0.2, \n",
    "                                    position = 1, \n",
    "                                    title = 'Category distribution', \n",
    "                                    ylim = [0, upper_bound], \n",
    "                                    rot = 0, fontsize = 11, figsize = (8,3))\n",
    "X_sample.category_name.value_counts().plot(kind = 'bar', \n",
    "                                           color='orange', \n",
    "                                           ax = ax, \n",
    "                                           width = 0.2, \n",
    "                                           position = 0, \n",
    "                                           ylim = [0, upper_bound], \n",
    "                                           rot = 0, fontsize = 11, figsize = (8,3))\n"
   ]
  },
  {
   "cell_type": "markdown",
   "metadata": {},
   "source": [
    "### Exercise 10 (take home):"
   ]
  },
  {
   "cell_type": "code",
   "execution_count": 9,
   "metadata": {},
   "outputs": [
    {
     "name": "stdout",
     "output_type": "stream",
     "text": [
      "01\n"
     ]
    }
   ],
   "source": [
    "# find the index of the second 1 in the fifth record\n",
    "for i in range(1, 100):\n",
    "    # print(f'{i}: {X_counts[4, i]}, means {count_vect.get_feature_names_out()[i]}')\n",
    "    if X_counts[4, i] == 1:\n",
    "        print(count_vect.get_feature_names_out()[i])\n",
    "        break"
   ]
  },
  {
   "cell_type": "markdown",
   "metadata": {},
   "source": [
    "### Exercise 11 (take home):"
   ]
  },
  {
   "cell_type": "code",
   "execution_count": 20,
   "metadata": {},
   "outputs": [
    {
     "data": {
      "image/png": "[encoded data removed]",
      "text/plain": [
       "<Figure size 900x700 with 2 Axes>"
      ]
     },
     "metadata": {},
     "output_type": "display_data"
    }
   ],
   "source": [
    "my_count_vect = CountVectorizer(max_features = 20)\n",
    "my_X_counts = my_count_vect.fit_transform(X.text[0:20])\n",
    "# obtain document index\n",
    "plot_y = [\"doc_\"+ str(i) for i in list(X.index)[0:20]]\n",
    "\n",
    "# first twenty features only\n",
    "my_plot_x = [str(i) for i in my_count_vect.get_feature_names_out()]\n",
    "my_plot_z = my_X_counts[0:20, 0:20].toarray() #X_counts[how many documents, how many terms]\n",
    "\n",
    "# print top 20 terms\n",
    "# print(my_plot_x)\n",
    "\n",
    "df_todraw = pd.DataFrame(my_plot_z, columns = my_plot_x, index = plot_y)\n",
    "top_freq_value = df_todraw.values.max() * 0.75\n",
    "plt.subplots(figsize=(9, 7))\n",
    "ax = sns.heatmap(df_todraw,\n",
    "                 cmap=\"PuRd\",\n",
    "                 vmin=0, vmax=top_freq_value, annot=True)"
   ]
  },
  {
   "cell_type": "markdown",
   "metadata": {},
   "source": [
    "### Exercise 12 (take home):"
   ]
  },
  {
   "cell_type": "code",
   "execution_count": 26,
   "metadata": {},
   "outputs": [
    {
     "data": {
      "application/vnd.plotly.v1+json": {
       "config": {
        "plotlyServerURL": "https://plot.ly"
       },
       "data": [
        {
         "type": "histogram",
         "x": [
          "00",
          "000",
          "0000",
          "0000001200",
          "000005102000",
          "0001",
          "000100255pixel",
          "00014",
          "000406",
          "0007",
          "000usd",
          "0010",
          "001004",
          "0010580b",
          "001125",
          "001200201pixel",
          "0014",
          "001642",
          "00196",
          "002",
          "0028",
          "003258u19250",
          "0033",
          "0038",
          "0039",
          "004021809",
          "004158",
          "004627",
          "0049",
          "00500",
          "005148",
          "00630",
          "008561",
          "0094",
          "00am",
          "00index",
          "00pm",
          "01",
          "0100",
          "010116",
          "010702",
          "011255",
          "011308pxf3",
          "011605",
          "011720",
          "012019",
          "012536",
          "012946",
          "013",
          "013034",
          "0131",
          "013423tan102",
          "013657",
          "0138",
          "013846",
          "0150",
          "015518",
          "01580",
          "015931",
          "01720",
          "01752",
          "0179",
          "01821",
          "01830",
          "0184",
          "01852",
          "01854",
          "01890",
          "0195",
          "0199",
          "01a",
          "01wb",
          "02",
          "020",
          "0200",
          "020504",
          "020637",
          "020646",
          "020701tan102",
          "020751",
          "02115",
          "02118",
          "02139",
          "02142",
          "02154",
          "02160",
          "021635",
          "021708",
          "02173",
          "0223",
          "02254",
          "022621tan102",
          "023044",
          "0235",
          "0237",
          "024103",
          "024150",
          "024626",
          "025240",
          "025924",
          "0278",
          "02908",
          "0293",
          "03",
          "030105",
          "0303",
          "030334",
          "03051",
          "0306",
          "030734",
          "031423",
          "0318",
          "032251",
          "0330",
          "033446",
          "033843",
          "034226",
          "0349",
          "0358",
          "0362",
          "0372",
          "03756",
          "0380",
          "0391",
          "04",
          "040",
          "040286",
          "04046",
          "040493161915",
          "040819",
          "0410",
          "041343",
          "0418",
          "042100",
          "0423",
          "043654",
          "044140",
          "044946",
          "04g",
          "05",
          "0500",
          "050046mvs104",
          "0502",
          "050524",
          "050750",
          "0510",
          "051039",
          "0511",
          "051201",
          "051246",
          "0513",
          "053250",
          "05401",
          "05402",
          "05446",
          "054600",
          "055958",
          "0578",
          "06",
          "0600",
          "0600lines",
          "060493161931",
          "0608",
          "061",
          "062328",
          "062908mvs104",
          "06320",
          "063425",
          "0649",
          "06510",
          "065230",
          "0656",
          "068",
          "07",
          "0700",
          "0704",
          "0706",
          "071",
          "07102",
          "071613j5j",
          "071823",
          "0721",
          "0729",
          "07410",
          "0752",
          "07653",
          "077",
          "07748",
          "08",
          "0804",
          "08057",
          "080719",
          "081",
          "081052",
          "081303",
          "083731",
          "084",
          "084042",
          "084258",
          "085526",
          "08690",
          "08786",
          "08934",
          "09",
          "0900",
          "090030",
          "0901",
          "0903",
          "090306",
          "0908",
          "091139",
          "091258",
          "091844",
          "092051",
          "0922",
          "0926",
          "0930",
          "093300",
          "093904",
          "0943",
          "095148",
          "095220",
          "0987",
          "0_",
          "0______________________________________________________________________0",
          "0a",
          "0b",
          "0b10",
          "0b15",
          "0e9",
          "0hb",
          "0l7",
          "0s",
          "0u1",
          "0x",
          "0x00",
          "0x100",
          "0x1f",
          "0x3d4",
          "0x8",
          "0xc010",
          "0xc018",
          "10",
          "100",
          "1000",
          "10000",
          "100000",
          "100015",
          "100039",
          "100042",
          "1000mg",
          "1001",
          "10012",
          "10016",
          "10021",
          "1003",
          "10032",
          "10036",
          "10038",
          "1005",
          "10056",
          "1007",
          "100c",
          "100grams",
          "100k",
          "100lez",
          "100megs",
          "100mg",
          "101",
          "1010",
          "10101",
          "101010",
          "1013",
          "1015",
          "101747",
          "10179",
          "10193",
          "10196",
          "101h",
          "102",
          "102007",
          "1023",
          "1024",
          "1024x1024",
          "1024x512",
          "1024x728",
          "1024x768",
          "1024x768x24",
          "1024x768x65000",
          "1024x786x24",
          "10250",
          "1027",
          "1028",
          "102810",
          "1029",
          "103",
          "1030",
          "103237",
          "10368",
          "1039"
         ],
         "y": [
          134,
          92,
          1,
          2,
          1,
          3,
          1,
          1,
          1,
          1,
          2,
          1,
          1,
          3,
          1,
          1,
          1,
          2,
          1,
          3,
          1,
          2,
          1,
          1,
          1,
          2,
          1,
          1,
          1,
          1,
          1,
          1,
          1,
          1,
          5,
          1,
          13,
          95,
          4,
          1,
          1,
          1,
          1,
          1,
          2,
          1,
          1,
          1,
          2,
          1,
          1,
          1,
          1,
          2,
          1,
          1,
          1,
          4,
          2,
          1,
          1,
          1,
          1,
          1,
          2,
          1,
          1,
          1,
          1,
          1,
          2,
          1,
          59,
          1,
          4,
          2,
          1,
          1,
          1,
          1,
          2,
          3,
          1,
          2,
          1,
          1,
          1,
          1,
          3,
          1,
          1,
          1,
          3,
          1,
          1,
          3,
          2,
          1,
          2,
          2,
          1,
          1,
          3,
          100,
          1,
          1,
          1,
          1,
          1,
          1,
          2,
          1,
          2,
          1,
          2,
          1,
          2,
          5,
          24,
          1,
          1,
          1,
          1,
          2,
          47,
          4,
          1,
          1,
          1,
          1,
          1,
          3,
          1,
          1,
          4,
          2,
          2,
          1,
          1,
          62,
          2,
          2,
          1,
          1,
          1,
          2,
          1,
          5,
          1,
          1,
          1,
          1,
          1,
          1,
          1,
          1,
          1,
          1,
          18,
          3,
          1,
          1,
          3,
          2,
          1,
          1,
          3,
          2,
          1,
          1,
          1,
          1,
          1,
          27,
          1,
          1,
          1,
          7,
          1,
          1,
          2,
          2,
          1,
          1,
          1,
          1,
          1,
          1,
          40,
          1,
          2,
          1,
          1,
          5,
          1,
          1,
          1,
          5,
          1,
          1,
          1,
          1,
          1,
          34,
          1,
          2,
          1,
          1,
          1,
          1,
          2,
          2,
          2,
          1,
          1,
          1,
          2,
          2,
          1,
          1,
          1,
          4,
          2,
          1,
          1,
          1,
          1,
          1,
          1,
          1,
          1,
          1,
          1,
          1,
          2,
          1,
          3,
          1,
          1,
          1,
          1,
          1,
          378,
          105,
          20,
          2,
          2,
          2,
          1,
          1,
          1,
          1,
          1,
          2,
          1,
          1,
          1,
          1,
          1,
          1,
          1,
          1,
          1,
          2,
          2,
          1,
          1,
          1,
          19,
          1,
          3,
          4,
          8,
          2,
          1,
          2,
          2,
          1,
          1,
          7,
          3,
          1,
          5,
          1,
          1,
          1,
          7,
          1,
          1,
          2,
          1,
          1,
          2,
          1,
          1,
          4,
          1,
          3,
          1,
          1
         ]
        }
       ],
       "layout": {
        "template": {
         "data": {
          "bar": [
           {
            "error_x": {
             "color": "#2a3f5f"
            },
            "error_y": {
             "color": "#2a3f5f"
            },
            "marker": {
             "line": {
              "color": "#E5ECF6",
              "width": 0.5
             },
             "pattern": {
              "fillmode": "overlay",
              "size": 10,
              "solidity": 0.2
             }
            },
            "type": "bar"
           }
          ],
          "barpolar": [
           {
            "marker": {
             "line": {
              "color": "#E5ECF6",
              "width": 0.5
             },
             "pattern": {
              "fillmode": "overlay",
              "size": 10,
              "solidity": 0.2
             }
            },
            "type": "barpolar"
           }
          ],
          "carpet": [
           {
            "aaxis": {
             "endlinecolor": "#2a3f5f",
             "gridcolor": "white",
             "linecolor": "white",
             "minorgridcolor": "white",
             "startlinecolor": "#2a3f5f"
            },
            "baxis": {
             "endlinecolor": "#2a3f5f",
             "gridcolor": "white",
             "linecolor": "white",
             "minorgridcolor": "white",
             "startlinecolor": "#2a3f5f"
            },
            "type": "carpet"
           }
          ],
          "choropleth": [
           {
            "colorbar": {
             "outlinewidth": 0,
             "ticks": ""
            },
            "type": "choropleth"
           }
          ],
          "contour": [
           {
            "colorbar": {
             "outlinewidth": 0,
             "ticks": ""
            },
            "colorscale": [
             [
              0,
              "#0d0887"
             ],
             [
              0.1111111111111111,
              "#46039f"
             ],
             [
              0.2222222222222222,
              "#7201a8"
             ],
             [
              0.3333333333333333,
              "#9c179e"
             ],
             [
              0.4444444444444444,
              "#bd3786"
             ],
             [
              0.5555555555555556,
              "#d8576b"
             ],
             [
              0.6666666666666666,
              "#ed7953"
             ],
             [
              0.7777777777777778,
              "#fb9f3a"
             ],
             [
              0.8888888888888888,
              "#fdca26"
             ],
             [
              1,
              "#f0f921"
             ]
            ],
            "type": "contour"
           }
          ],
          "contourcarpet": [
           {
            "colorbar": {
             "outlinewidth": 0,
             "ticks": ""
            },
            "type": "contourcarpet"
           }
          ],
          "heatmap": [
           {
            "colorbar": {
             "outlinewidth": 0,
             "ticks": ""
            },
            "colorscale": [
             [
              0,
              "#0d0887"
             ],
             [
              0.1111111111111111,
              "#46039f"
             ],
             [
              0.2222222222222222,
              "#7201a8"
             ],
             [
              0.3333333333333333,
              "#9c179e"
             ],
             [
              0.4444444444444444,
              "#bd3786"
             ],
             [
              0.5555555555555556,
              "#d8576b"
             ],
             [
              0.6666666666666666,
              "#ed7953"
             ],
             [
              0.7777777777777778,
              "#fb9f3a"
             ],
             [
              0.8888888888888888,
              "#fdca26"
             ],
             [
              1,
              "#f0f921"
             ]
            ],
            "type": "heatmap"
           }
          ],
          "heatmapgl": [
           {
            "colorbar": {
             "outlinewidth": 0,
             "ticks": ""
            },
            "colorscale": [
             [
              0,
              "#0d0887"
             ],
             [
              0.1111111111111111,
              "#46039f"
             ],
             [
              0.2222222222222222,
              "#7201a8"
             ],
             [
              0.3333333333333333,
              "#9c179e"
             ],
             [
              0.4444444444444444,
              "#bd3786"
             ],
             [
              0.5555555555555556,
              "#d8576b"
             ],
             [
              0.6666666666666666,
              "#ed7953"
             ],
             [
              0.7777777777777778,
              "#fb9f3a"
             ],
             [
              0.8888888888888888,
              "#fdca26"
             ],
             [
              1,
              "#f0f921"
             ]
            ],
            "type": "heatmapgl"
           }
          ],
          "histogram": [
           {
            "marker": {
             "pattern": {
              "fillmode": "overlay",
              "size": 10,
              "solidity": 0.2
             }
            },
            "type": "histogram"
           }
          ],
          "histogram2d": [
           {
            "colorbar": {
             "outlinewidth": 0,
             "ticks": ""
            },
            "colorscale": [
             [
              0,
              "#0d0887"
             ],
             [
              0.1111111111111111,
              "#46039f"
             ],
             [
              0.2222222222222222,
              "#7201a8"
             ],
             [
              0.3333333333333333,
              "#9c179e"
             ],
             [
              0.4444444444444444,
              "#bd3786"
             ],
             [
              0.5555555555555556,
              "#d8576b"
             ],
             [
              0.6666666666666666,
              "#ed7953"
             ],
             [
              0.7777777777777778,
              "#fb9f3a"
             ],
             [
              0.8888888888888888,
              "#fdca26"
             ],
             [
              1,
              "#f0f921"
             ]
            ],
            "type": "histogram2d"
           }
          ],
          "histogram2dcontour": [
           {
            "colorbar": {
             "outlinewidth": 0,
             "ticks": ""
            },
            "colorscale": [
             [
              0,
              "#0d0887"
             ],
             [
              0.1111111111111111,
              "#46039f"
             ],
             [
              0.2222222222222222,
              "#7201a8"
             ],
             [
              0.3333333333333333,
              "#9c179e"
             ],
             [
              0.4444444444444444,
              "#bd3786"
             ],
             [
              0.5555555555555556,
              "#d8576b"
             ],
             [
              0.6666666666666666,
              "#ed7953"
             ],
             [
              0.7777777777777778,
              "#fb9f3a"
             ],
             [
              0.8888888888888888,
              "#fdca26"
             ],
             [
              1,
              "#f0f921"
             ]
            ],
            "type": "histogram2dcontour"
           }
          ],
          "mesh3d": [
           {
            "colorbar": {
             "outlinewidth": 0,
             "ticks": ""
            },
            "type": "mesh3d"
           }
          ],
          "parcoords": [
           {
            "line": {
             "colorbar": {
              "outlinewidth": 0,
              "ticks": ""
             }
            },
            "type": "parcoords"
           }
          ],
          "pie": [
           {
            "automargin": true,
            "type": "pie"
           }
          ],
          "scatter": [
           {
            "fillpattern": {
             "fillmode": "overlay",
             "size": 10,
             "solidity": 0.2
            },
            "type": "scatter"
           }
          ],
          "scatter3d": [
           {
            "line": {
             "colorbar": {
              "outlinewidth": 0,
              "ticks": ""
             }
            },
            "marker": {
             "colorbar": {
              "outlinewidth": 0,
              "ticks": ""
             }
            },
            "type": "scatter3d"
           }
          ],
          "scattercarpet": [
           {
            "marker": {
             "colorbar": {
              "outlinewidth": 0,
              "ticks": ""
             }
            },
            "type": "scattercarpet"
           }
          ],
          "scattergeo": [
           {
            "marker": {
             "colorbar": {
              "outlinewidth": 0,
              "ticks": ""
             }
            },
            "type": "scattergeo"
           }
          ],
          "scattergl": [
           {
            "marker": {
             "colorbar": {
              "outlinewidth": 0,
              "ticks": ""
             }
            },
            "type": "scattergl"
           }
          ],
          "scattermapbox": [
           {
            "marker": {
             "colorbar": {
              "outlinewidth": 0,
              "ticks": ""
             }
            },
            "type": "scattermapbox"
           }
          ],
          "scatterpolar": [
           {
            "marker": {
             "colorbar": {
              "outlinewidth": 0,
              "ticks": ""
             }
            },
            "type": "scatterpolar"
           }
          ],
          "scatterpolargl": [
           {
            "marker": {
             "colorbar": {
              "outlinewidth": 0,
              "ticks": ""
             }
            },
            "type": "scatterpolargl"
           }
          ],
          "scatterternary": [
           {
            "marker": {
             "colorbar": {
              "outlinewidth": 0,
              "ticks": ""
             }
            },
            "type": "scatterternary"
           }
          ],
          "surface": [
           {
            "colorbar": {
             "outlinewidth": 0,
             "ticks": ""
            },
            "colorscale": [
             [
              0,
              "#0d0887"
             ],
             [
              0.1111111111111111,
              "#46039f"
             ],
             [
              0.2222222222222222,
              "#7201a8"
             ],
             [
              0.3333333333333333,
              "#9c179e"
             ],
             [
              0.4444444444444444,
              "#bd3786"
             ],
             [
              0.5555555555555556,
              "#d8576b"
             ],
             [
              0.6666666666666666,
              "#ed7953"
             ],
             [
              0.7777777777777778,
              "#fb9f3a"
             ],
             [
              0.8888888888888888,
              "#fdca26"
             ],
             [
              1,
              "#f0f921"
             ]
            ],
            "type": "surface"
           }
          ],
          "table": [
           {
            "cells": {
             "fill": {
              "color": "#EBF0F8"
             },
             "line": {
              "color": "white"
             }
            },
            "header": {
             "fill": {
              "color": "#C8D4E3"
             },
             "line": {
              "color": "white"
             }
            },
            "type": "table"
           }
          ]
         },
         "layout": {
          "annotationdefaults": {
           "arrowcolor": "#2a3f5f",
           "arrowhead": 0,
           "arrowwidth": 1
          },
          "autotypenumbers": "strict",
          "coloraxis": {
           "colorbar": {
            "outlinewidth": 0,
            "ticks": ""
           }
          },
          "colorscale": {
           "diverging": [
            [
             0,
             "#8e0152"
            ],
            [
             0.1,
             "#c51b7d"
            ],
            [
             0.2,
             "#de77ae"
            ],
            [
             0.3,
             "#f1b6da"
            ],
            [
             0.4,
             "#fde0ef"
            ],
            [
             0.5,
             "#f7f7f7"
            ],
            [
             0.6,
             "#e6f5d0"
            ],
            [
             0.7,
             "#b8e186"
            ],
            [
             0.8,
             "#7fbc41"
            ],
            [
             0.9,
             "#4d9221"
            ],
            [
             1,
             "#276419"
            ]
           ],
           "sequential": [
            [
             0,
             "#0d0887"
            ],
            [
             0.1111111111111111,
             "#46039f"
            ],
            [
             0.2222222222222222,
             "#7201a8"
            ],
            [
             0.3333333333333333,
             "#9c179e"
            ],
            [
             0.4444444444444444,
             "#bd3786"
            ],
            [
             0.5555555555555556,
             "#d8576b"
            ],
            [
             0.6666666666666666,
             "#ed7953"
            ],
            [
             0.7777777777777778,
             "#fb9f3a"
            ],
            [
             0.8888888888888888,
             "#fdca26"
            ],
            [
             1,
             "#f0f921"
            ]
           ],
           "sequentialminus": [
            [
             0,
             "#0d0887"
            ],
            [
             0.1111111111111111,
             "#46039f"
            ],
            [
             0.2222222222222222,
             "#7201a8"
            ],
            [
             0.3333333333333333,
             "#9c179e"
            ],
            [
             0.4444444444444444,
             "#bd3786"
            ],
            [
             0.5555555555555556,
             "#d8576b"
            ],
            [
             0.6666666666666666,
             "#ed7953"
            ],
            [
             0.7777777777777778,
             "#fb9f3a"
            ],
            [
             0.8888888888888888,
             "#fdca26"
            ],
            [
             1,
             "#f0f921"
            ]
           ]
          },
          "colorway": [
           "#636efa",
           "#EF553B",
           "#00cc96",
           "#ab63fa",
           "#FFA15A",
           "#19d3f3",
           "#FF6692",
           "#B6E880",
           "#FF97FF",
           "#FECB52"
          ],
          "font": {
           "color": "#2a3f5f"
          },
          "geo": {
           "bgcolor": "white",
           "lakecolor": "white",
           "landcolor": "#E5ECF6",
           "showlakes": true,
           "showland": true,
           "subunitcolor": "white"
          },
          "hoverlabel": {
           "align": "left"
          },
          "hovermode": "closest",
          "mapbox": {
           "style": "light"
          },
          "paper_bgcolor": "white",
          "plot_bgcolor": "#E5ECF6",
          "polar": {
           "angularaxis": {
            "gridcolor": "white",
            "linecolor": "white",
            "ticks": ""
           },
           "bgcolor": "#E5ECF6",
           "radialaxis": {
            "gridcolor": "white",
            "linecolor": "white",
            "ticks": ""
           }
          },
          "scene": {
           "xaxis": {
            "backgroundcolor": "#E5ECF6",
            "gridcolor": "white",
            "gridwidth": 2,
            "linecolor": "white",
            "showbackground": true,
            "ticks": "",
            "zerolinecolor": "white"
           },
           "yaxis": {
            "backgroundcolor": "#E5ECF6",
            "gridcolor": "white",
            "gridwidth": 2,
            "linecolor": "white",
            "showbackground": true,
            "ticks": "",
            "zerolinecolor": "white"
           },
           "zaxis": {
            "backgroundcolor": "#E5ECF6",
            "gridcolor": "white",
            "gridwidth": 2,
            "linecolor": "white",
            "showbackground": true,
            "ticks": "",
            "zerolinecolor": "white"
           }
          },
          "shapedefaults": {
           "line": {
            "color": "#2a3f5f"
           }
          },
          "ternary": {
           "aaxis": {
            "gridcolor": "white",
            "linecolor": "white",
            "ticks": ""
           },
           "baxis": {
            "gridcolor": "white",
            "linecolor": "white",
            "ticks": ""
           },
           "bgcolor": "#E5ECF6",
           "caxis": {
            "gridcolor": "white",
            "linecolor": "white",
            "ticks": ""
           }
          },
          "title": {
           "x": 0.05
          },
          "xaxis": {
           "automargin": true,
           "gridcolor": "white",
           "linecolor": "white",
           "ticks": "",
           "title": {
            "standoff": 15
           },
           "zerolinecolor": "white",
           "zerolinewidth": 2
          },
          "yaxis": {
           "automargin": true,
           "gridcolor": "white",
           "linecolor": "white",
           "ticks": "",
           "title": {
            "standoff": 15
           },
           "zerolinecolor": "white",
           "zerolinewidth": 2
          }
         }
        },
        "title": {
         "text": "Term Frequency distribution"
        }
       }
      }
     },
     "metadata": {},
     "output_type": "display_data"
    }
   ],
   "source": [
    "trace = go.Histogram(x = count_vect.get_feature_names_out()[:300], y = term_frequencies[:300])\n",
    "data = [trace]\n",
    "layout = go.Layout(title = 'Term Frequency distribution')\n",
    "fig = go.Figure(data = data, layout = layout)\n",
    "fig.show()"
   ]
  },
  {
   "cell_type": "markdown",
   "metadata": {},
   "source": [
    "### Exercise 13 (take home):"
   ]
  },
  {
   "cell_type": "code",
   "execution_count": 29,
   "metadata": {},
   "outputs": [
    {
     "data": {
      "text/plain": [
       "[Text(0, 0, 'the'),\n",
       " Text(1, 0, 'of'),\n",
       " Text(2, 0, 'to'),\n",
       " Text(3, 0, 'and'),\n",
       " Text(4, 0, 'is'),\n",
       " Text(5, 0, 'in'),\n",
       " Text(6, 0, 'that'),\n",
       " Text(7, 0, 'it'),\n",
       " Text(8, 0, 'you'),\n",
       " Text(9, 0, 'for'),\n",
       " Text(10, 0, 'not'),\n",
       " Text(11, 0, 'this'),\n",
       " Text(12, 0, 'be'),\n",
       " Text(13, 0, 'from'),\n",
       " Text(14, 0, 'are'),\n",
       " Text(15, 0, 'edu'),\n",
       " Text(16, 0, 'have'),\n",
       " Text(17, 0, 'as'),\n",
       " Text(18, 0, 'on'),\n",
       " Text(19, 0, 'with'),\n",
       " Text(20, 0, 'but'),\n",
       " Text(21, 0, 'or'),\n",
       " Text(22, 0, 'if'),\n",
       " Text(23, 0, 'was'),\n",
       " Text(24, 0, 'can'),\n",
       " Text(25, 0, 'we'),\n",
       " Text(26, 0, 'there'),\n",
       " Text(27, 0, 'by'),\n",
       " Text(28, 0, 'what'),\n",
       " Text(29, 0, 'subject'),\n",
       " Text(30, 0, 'they'),\n",
       " Text(31, 0, 'an'),\n",
       " Text(32, 0, 'lines'),\n",
       " Text(33, 0, 'one'),\n",
       " Text(34, 0, 'he'),\n",
       " Text(35, 0, 'god'),\n",
       " Text(36, 0, 'do'),\n",
       " Text(37, 0, 'organization'),\n",
       " Text(38, 0, 'at'),\n",
       " Text(39, 0, 're'),\n",
       " Text(40, 0, 'com'),\n",
       " Text(41, 0, 'about'),\n",
       " Text(42, 0, 'my'),\n",
       " Text(43, 0, 'all'),\n",
       " Text(44, 0, 'would'),\n",
       " Text(45, 0, 'will'),\n",
       " Text(46, 0, 'so'),\n",
       " Text(47, 0, 'some'),\n",
       " Text(48, 0, 'your'),\n",
       " Text(49, 0, 'no'),\n",
       " Text(50, 0, 'who'),\n",
       " Text(51, 0, 'has'),\n",
       " Text(52, 0, 'any'),\n",
       " Text(53, 0, 'writes'),\n",
       " Text(54, 0, 'people'),\n",
       " Text(55, 0, 'which'),\n",
       " Text(56, 0, 'me'),\n",
       " Text(57, 0, 'article'),\n",
       " Text(58, 0, 'don'),\n",
       " Text(59, 0, 'his'),\n",
       " Text(60, 0, 'more'),\n",
       " Text(61, 0, 'other'),\n",
       " Text(62, 0, 'know'),\n",
       " Text(63, 0, 'when'),\n",
       " Text(64, 0, 'think'),\n",
       " Text(65, 0, 'their'),\n",
       " Text(66, 0, 'like'),\n",
       " Text(67, 0, 'university'),\n",
       " Text(68, 0, 'does'),\n",
       " Text(69, 0, 'out'),\n",
       " Text(70, 0, 'just'),\n",
       " Text(71, 0, 'only'),\n",
       " Text(72, 0, 'how'),\n",
       " Text(73, 0, 'also'),\n",
       " Text(74, 0, 'been'),\n",
       " Text(75, 0, 'than'),\n",
       " Text(76, 0, 'were'),\n",
       " Text(77, 0, 'then'),\n",
       " Text(78, 0, 'time'),\n",
       " Text(79, 0, 'because'),\n",
       " Text(80, 0, 'them'),\n",
       " Text(81, 0, 'posting'),\n",
       " Text(82, 0, 'up'),\n",
       " Text(83, 0, 'had'),\n",
       " Text(84, 0, 'am'),\n",
       " Text(85, 0, 'should'),\n",
       " Text(86, 0, 'may'),\n",
       " Text(87, 0, 'these'),\n",
       " Text(88, 0, 'many'),\n",
       " Text(89, 0, 'say'),\n",
       " Text(90, 0, 'jesus'),\n",
       " Text(91, 0, 'see'),\n",
       " Text(92, 0, 'why'),\n",
       " Text(93, 0, 'us'),\n",
       " Text(94, 0, 'get'),\n",
       " Text(95, 0, 'good'),\n",
       " Text(96, 0, 'very'),\n",
       " Text(97, 0, 'believe'),\n",
       " Text(98, 0, 'use'),\n",
       " Text(99, 0, 'such'),\n",
       " Text(100, 0, 'even'),\n",
       " Text(101, 0, 'our'),\n",
       " Text(102, 0, 'could'),\n",
       " Text(103, 0, 'well'),\n",
       " Text(104, 0, 'host'),\n",
       " Text(105, 0, 'most'),\n",
       " Text(106, 0, 'cs'),\n",
       " Text(107, 0, 'those'),\n",
       " Text(108, 0, 'being'),\n",
       " Text(109, 0, 'nntp'),\n",
       " Text(110, 0, 'way'),\n",
       " Text(111, 0, 'new'),\n",
       " Text(112, 0, 'world'),\n",
       " Text(113, 0, 'much'),\n",
       " Text(114, 0, 'now'),\n",
       " Text(115, 0, 'into'),\n",
       " Text(116, 0, 'here'),\n",
       " Text(117, 0, 'graphics'),\n",
       " Text(118, 0, 'question'),\n",
       " Text(119, 0, 'something'),\n",
       " Text(120, 0, 'him'),\n",
       " Text(121, 0, 'must'),\n",
       " Text(122, 0, 'where'),\n",
       " Text(123, 0, 'things'),\n",
       " Text(124, 0, 'image'),\n",
       " Text(125, 0, 've'),\n",
       " Text(126, 0, 'science'),\n",
       " Text(127, 0, 'anyone'),\n",
       " Text(128, 0, 'make'),\n",
       " Text(129, 0, 'said'),\n",
       " Text(130, 0, 'did'),\n",
       " Text(131, 0, 'christian'),\n",
       " Text(132, 0, 'find'),\n",
       " Text(133, 0, 'two'),\n",
       " Text(134, 0, 'bible'),\n",
       " Text(135, 0, 'first'),\n",
       " Text(136, 0, 'point'),\n",
       " Text(137, 0, 'need'),\n",
       " Text(138, 0, 'same'),\n",
       " Text(139, 0, 'system'),\n",
       " Text(140, 0, 'true'),\n",
       " Text(141, 0, 'reply'),\n",
       " Text(142, 0, 'since'),\n",
       " Text(143, 0, 'its'),\n",
       " Text(144, 0, 'read'),\n",
       " Text(145, 0, 'christians'),\n",
       " Text(146, 0, 'ca'),\n",
       " Text(147, 0, 'too'),\n",
       " Text(148, 0, 'after'),\n",
       " Text(149, 0, '1993'),\n",
       " Text(150, 0, 'life'),\n",
       " Text(151, 0, 'want'),\n",
       " Text(152, 0, 'right'),\n",
       " Text(153, 0, 'church'),\n",
       " Text(154, 0, 'really'),\n",
       " Text(155, 0, 'she'),\n",
       " Text(156, 0, 'problem'),\n",
       " Text(157, 0, 'over'),\n",
       " Text(158, 0, 'without'),\n",
       " Text(159, 0, 'faith'),\n",
       " Text(160, 0, 'computer'),\n",
       " Text(161, 0, 'information'),\n",
       " Text(162, 0, 'used'),\n",
       " Text(163, 0, 'please'),\n",
       " Text(164, 0, 'help'),\n",
       " Text(165, 0, 'work'),\n",
       " Text(166, 0, 'etc'),\n",
       " Text(167, 0, 'take'),\n",
       " Text(168, 0, 'evidence'),\n",
       " Text(169, 0, 'years'),\n",
       " Text(170, 0, 'might'),\n",
       " Text(171, 0, 'uk'),\n",
       " Text(172, 0, 'however'),\n",
       " Text(173, 0, 'before'),\n",
       " Text(174, 0, 'day'),\n",
       " Text(175, 0, 'own'),\n",
       " Text(176, 0, 'never'),\n",
       " Text(177, 0, 'go'),\n",
       " Text(178, 0, 'another'),\n",
       " Text(179, 0, 'both'),\n",
       " Text(180, 0, 'still'),\n",
       " Text(181, 0, 'mail'),\n",
       " Text(182, 0, 'different'),\n",
       " Text(183, 0, 'fact'),\n",
       " Text(184, 0, 'christ'),\n",
       " Text(185, 0, 'her'),\n",
       " Text(186, 0, 'atheists'),\n",
       " Text(187, 0, 'come'),\n",
       " Text(188, 0, 'made'),\n",
       " Text(189, 0, 'religion'),\n",
       " Text(190, 0, 'seems'),\n",
       " Text(191, 0, '10'),\n",
       " Text(192, 0, 'thing'),\n",
       " Text(193, 0, 'truth'),\n",
       " Text(194, 0, 'case'),\n",
       " Text(195, 0, 'through'),\n",
       " Text(196, 0, 'doesn'),\n",
       " Text(197, 0, 'anything'),\n",
       " Text(198, 0, 'course'),\n",
       " Text(199, 0, 'group'),\n",
       " Text(200, 0, 'book'),\n",
       " Text(201, 0, 'll'),\n",
       " Text(202, 0, 'mean'),\n",
       " Text(203, 0, 'law'),\n",
       " Text(204, 0, 'sure'),\n",
       " Text(205, 0, 'someone'),\n",
       " Text(206, 0, 'research'),\n",
       " Text(207, 0, 'reason'),\n",
       " Text(208, 0, 'human'),\n",
       " Text(209, 0, 'pitt'),\n",
       " Text(210, 0, 'rather'),\n",
       " Text(211, 0, 'example'),\n",
       " Text(212, 0, 'few'),\n",
       " Text(213, 0, 'file'),\n",
       " Text(214, 0, 'part'),\n",
       " Text(215, 0, 'back'),\n",
       " Text(216, 0, 'keith'),\n",
       " Text(217, 0, 'thanks'),\n",
       " Text(218, 0, 'better'),\n",
       " Text(219, 0, 'john'),\n",
       " Text(220, 0, 'available'),\n",
       " Text(221, 0, 'every'),\n",
       " Text(222, 0, 'software'),\n",
       " Text(223, 0, 'while'),\n",
       " Text(224, 0, 'program'),\n",
       " Text(225, 0, 'version'),\n",
       " Text(226, 0, 'apr'),\n",
       " Text(227, 0, 'david'),\n",
       " Text(228, 0, 'wrong'),\n",
       " Text(229, 0, 'long'),\n",
       " Text(230, 0, 'bit'),\n",
       " Text(231, 0, 'atheism'),\n",
       " Text(232, 0, 'nothing'),\n",
       " Text(233, 0, 'little'),\n",
       " Text(234, 0, 'number'),\n",
       " Text(235, 0, '20'),\n",
       " Text(236, 0, 'man'),\n",
       " Text(237, 0, 'non'),\n",
       " Text(238, 0, 'between'),\n",
       " Text(239, 0, 'others'),\n",
       " Text(240, 0, 'least'),\n",
       " Text(241, 0, 'free'),\n",
       " Text(242, 0, 'post'),\n",
       " Text(243, 0, 'using'),\n",
       " Text(244, 0, 'distribution'),\n",
       " Text(245, 0, 'person'),\n",
       " Text(246, 0, 'real'),\n",
       " Text(247, 0, 'again'),\n",
       " Text(248, 0, 'msg'),\n",
       " Text(249, 0, 'cannot'),\n",
       " Text(250, 0, 'hell'),\n",
       " Text(251, 0, 'probably'),\n",
       " Text(252, 0, 'says'),\n",
       " Text(253, 0, 'data'),\n",
       " Text(254, 0, 'lot'),\n",
       " Text(255, 0, 'ac'),\n",
       " Text(256, 0, 'going'),\n",
       " Text(257, 0, 'possible'),\n",
       " Text(258, 0, 'found'),\n",
       " Text(259, 0, 'state'),\n",
       " Text(260, 0, 'name'),\n",
       " Text(261, 0, 'sgi'),\n",
       " Text(262, 0, 'each'),\n",
       " Text(263, 0, 'medical'),\n",
       " Text(264, 0, 'look'),\n",
       " Text(265, 0, 'called'),\n",
       " Text(266, 0, 'quite'),\n",
       " Text(267, 0, '15'),\n",
       " Text(268, 0, 'files'),\n",
       " Text(269, 0, 'under'),\n",
       " Text(270, 0, 'best'),\n",
       " Text(271, 0, 'christianity'),\n",
       " Text(272, 0, 'whether'),\n",
       " Text(273, 0, 'though'),\n",
       " Text(274, 0, 'argument'),\n",
       " Text(275, 0, 'based'),\n",
       " Text(276, 0, 'off'),\n",
       " Text(277, 0, 'give'),\n",
       " Text(278, 0, 'tell'),\n",
       " Text(279, 0, 'try'),\n",
       " Text(280, 0, 'either'),\n",
       " Text(281, 0, 'enough'),\n",
       " Text(282, 0, 'exist'),\n",
       " Text(283, 0, 'gordon'),\n",
       " Text(284, 0, 'jpeg'),\n",
       " Text(285, 0, 'actually'),\n",
       " Text(286, 0, 'rutgers'),\n",
       " Text(287, 0, 'word'),\n",
       " Text(288, 0, '16'),\n",
       " Text(289, 0, 'cc'),\n",
       " Text(290, 0, 'health'),\n",
       " Text(291, 0, 'let'),\n",
       " Text(292, 0, 'far'),\n",
       " Text(293, 0, 'banks'),\n",
       " Text(294, 0, 'news'),\n",
       " Text(295, 0, 'claim'),\n",
       " Text(296, 0, 'yet'),\n",
       " Text(297, 0, 'last'),\n",
       " Text(298, 0, 'mark'),\n",
       " Text(299, 0, '24')]"
      ]
     },
     "execution_count": 29,
     "metadata": {},
     "output_type": "execute_result"
    },
    {
     "data": {
      "image/png": "[encoded data removed]",
      "text/plain": [
       "<Figure size 10000x1000 with 1 Axes>"
      ]
     },
     "metadata": {},
     "output_type": "display_data"
    }
   ],
   "source": [
    "x = [x[0] for x in sorted_paired_values[:300]]\n",
    "y = [y[1] for y in sorted_paired_values[:300]]\n",
    "\n",
    "# plot the sorted term frequencies\n",
    "plt.subplots(figsize=(100, 10))\n",
    "g = sns.barplot(x=x, y=y)\n",
    "g.set_xticklabels(x, rotation = 90)"
   ]
  },
  {
   "cell_type": "markdown",
   "metadata": {},
   "source": [
    "### Exercise 14 (take home):"
   ]
  },
  {
   "cell_type": "code",
   "execution_count": 30,
   "metadata": {},
   "outputs": [
    {
     "data": {
      "application/vnd.plotly.v1+json": {
       "config": {
        "plotlyServerURL": "https://plot.ly"
       },
       "data": [
        {
         "type": "bar",
         "x": [
          "the",
          "of",
          "to",
          "and",
          "is",
          "in",
          "that",
          "it",
          "you",
          "for",
          "not",
          "this",
          "be",
          "from",
          "are",
          "edu",
          "have",
          "as",
          "on",
          "with",
          "but",
          "or",
          "if",
          "was",
          "can",
          "we",
          "there",
          "by",
          "what",
          "subject"
         ],
         "y": [
          29825,
          17660,
          17222,
          13017,
          12343,
          11226,
          10723,
          8447,
          6157,
          5962,
          5285,
          5063,
          4898,
          4877,
          4769,
          4675,
          4218,
          4015,
          3709,
          3655,
          3453,
          3432,
          3208,
          3020,
          2818,
          2674,
          2556,
          2548,
          2472,
          2464
         ]
        }
       ],
       "layout": {
        "template": {
         "data": {
          "bar": [
           {
            "error_x": {
             "color": "#2a3f5f"
            },
            "error_y": {
             "color": "#2a3f5f"
            },
            "marker": {
             "line": {
              "color": "#E5ECF6",
              "width": 0.5
             },
             "pattern": {
              "fillmode": "overlay",
              "size": 10,
              "solidity": 0.2
             }
            },
            "type": "bar"
           }
          ],
          "barpolar": [
           {
            "marker": {
             "line": {
              "color": "#E5ECF6",
              "width": 0.5
             },
             "pattern": {
              "fillmode": "overlay",
              "size": 10,
              "solidity": 0.2
             }
            },
            "type": "barpolar"
           }
          ],
          "carpet": [
           {
            "aaxis": {
             "endlinecolor": "#2a3f5f",
             "gridcolor": "white",
             "linecolor": "white",
             "minorgridcolor": "white",
             "startlinecolor": "#2a3f5f"
            },
            "baxis": {
             "endlinecolor": "#2a3f5f",
             "gridcolor": "white",
             "linecolor": "white",
             "minorgridcolor": "white",
             "startlinecolor": "#2a3f5f"
            },
            "type": "carpet"
           }
          ],
          "choropleth": [
           {
            "colorbar": {
             "outlinewidth": 0,
             "ticks": ""
            },
            "type": "choropleth"
           }
          ],
          "contour": [
           {
            "colorbar": {
             "outlinewidth": 0,
             "ticks": ""
            },
            "colorscale": [
             [
              0,
              "#0d0887"
             ],
             [
              0.1111111111111111,
              "#46039f"
             ],
             [
              0.2222222222222222,
              "#7201a8"
             ],
             [
              0.3333333333333333,
              "#9c179e"
             ],
             [
              0.4444444444444444,
              "#bd3786"
             ],
             [
              0.5555555555555556,
              "#d8576b"
             ],
             [
              0.6666666666666666,
              "#ed7953"
             ],
             [
              0.7777777777777778,
              "#fb9f3a"
             ],
             [
              0.8888888888888888,
              "#fdca26"
             ],
             [
              1,
              "#f0f921"
             ]
            ],
            "type": "contour"
           }
          ],
          "contourcarpet": [
           {
            "colorbar": {
             "outlinewidth": 0,
             "ticks": ""
            },
            "type": "contourcarpet"
           }
          ],
          "heatmap": [
           {
            "colorbar": {
             "outlinewidth": 0,
             "ticks": ""
            },
            "colorscale": [
             [
              0,
              "#0d0887"
             ],
             [
              0.1111111111111111,
              "#46039f"
             ],
             [
              0.2222222222222222,
              "#7201a8"
             ],
             [
              0.3333333333333333,
              "#9c179e"
             ],
             [
              0.4444444444444444,
              "#bd3786"
             ],
             [
              0.5555555555555556,
              "#d8576b"
             ],
             [
              0.6666666666666666,
              "#ed7953"
             ],
             [
              0.7777777777777778,
              "#fb9f3a"
             ],
             [
              0.8888888888888888,
              "#fdca26"
             ],
             [
              1,
              "#f0f921"
             ]
            ],
            "type": "heatmap"
           }
          ],
          "heatmapgl": [
           {
            "colorbar": {
             "outlinewidth": 0,
             "ticks": ""
            },
            "colorscale": [
             [
              0,
              "#0d0887"
             ],
             [
              0.1111111111111111,
              "#46039f"
             ],
             [
              0.2222222222222222,
              "#7201a8"
             ],
             [
              0.3333333333333333,
              "#9c179e"
             ],
             [
              0.4444444444444444,
              "#bd3786"
             ],
             [
              0.5555555555555556,
              "#d8576b"
             ],
             [
              0.6666666666666666,
              "#ed7953"
             ],
             [
              0.7777777777777778,
              "#fb9f3a"
             ],
             [
              0.8888888888888888,
              "#fdca26"
             ],
             [
              1,
              "#f0f921"
             ]
            ],
            "type": "heatmapgl"
           }
          ],
          "histogram": [
           {
            "marker": {
             "pattern": {
              "fillmode": "overlay",
              "size": 10,
              "solidity": 0.2
             }
            },
            "type": "histogram"
           }
          ],
          "histogram2d": [
           {
            "colorbar": {
             "outlinewidth": 0,
             "ticks": ""
            },
            "colorscale": [
             [
              0,
              "#0d0887"
             ],
             [
              0.1111111111111111,
              "#46039f"
             ],
             [
              0.2222222222222222,
              "#7201a8"
             ],
             [
              0.3333333333333333,
              "#9c179e"
             ],
             [
              0.4444444444444444,
              "#bd3786"
             ],
             [
              0.5555555555555556,
              "#d8576b"
             ],
             [
              0.6666666666666666,
              "#ed7953"
             ],
             [
              0.7777777777777778,
              "#fb9f3a"
             ],
             [
              0.8888888888888888,
              "#fdca26"
             ],
             [
              1,
              "#f0f921"
             ]
            ],
            "type": "histogram2d"
           }
          ],
          "histogram2dcontour": [
           {
            "colorbar": {
             "outlinewidth": 0,
             "ticks": ""
            },
            "colorscale": [
             [
              0,
              "#0d0887"
             ],
             [
              0.1111111111111111,
              "#46039f"
             ],
             [
              0.2222222222222222,
              "#7201a8"
             ],
             [
              0.3333333333333333,
              "#9c179e"
             ],
             [
              0.4444444444444444,
              "#bd3786"
             ],
             [
              0.5555555555555556,
              "#d8576b"
             ],
             [
              0.6666666666666666,
              "#ed7953"
             ],
             [
              0.7777777777777778,
              "#fb9f3a"
             ],
             [
              0.8888888888888888,
              "#fdca26"
             ],
             [
              1,
              "#f0f921"
             ]
            ],
            "type": "histogram2dcontour"
           }
          ],
          "mesh3d": [
           {
            "colorbar": {
             "outlinewidth": 0,
             "ticks": ""
            },
            "type": "mesh3d"
           }
          ],
          "parcoords": [
           {
            "line": {
             "colorbar": {
              "outlinewidth": 0,
              "ticks": ""
             }
            },
            "type": "parcoords"
           }
          ],
          "pie": [
           {
            "automargin": true,
            "type": "pie"
           }
          ],
          "scatter": [
           {
            "fillpattern": {
             "fillmode": "overlay",
             "size": 10,
             "solidity": 0.2
            },
            "type": "scatter"
           }
          ],
          "scatter3d": [
           {
            "line": {
             "colorbar": {
              "outlinewidth": 0,
              "ticks": ""
             }
            },
            "marker": {
             "colorbar": {
              "outlinewidth": 0,
              "ticks": ""
             }
            },
            "type": "scatter3d"
           }
          ],
          "scattercarpet": [
           {
            "marker": {
             "colorbar": {
              "outlinewidth": 0,
              "ticks": ""
             }
            },
            "type": "scattercarpet"
           }
          ],
          "scattergeo": [
           {
            "marker": {
             "colorbar": {
              "outlinewidth": 0,
              "ticks": ""
             }
            },
            "type": "scattergeo"
           }
          ],
          "scattergl": [
           {
            "marker": {
             "colorbar": {
              "outlinewidth": 0,
              "ticks": ""
             }
            },
            "type": "scattergl"
           }
          ],
          "scattermapbox": [
           {
            "marker": {
             "colorbar": {
              "outlinewidth": 0,
              "ticks": ""
             }
            },
            "type": "scattermapbox"
           }
          ],
          "scatterpolar": [
           {
            "marker": {
             "colorbar": {
              "outlinewidth": 0,
              "ticks": ""
             }
            },
            "type": "scatterpolar"
           }
          ],
          "scatterpolargl": [
           {
            "marker": {
             "colorbar": {
              "outlinewidth": 0,
              "ticks": ""
             }
            },
            "type": "scatterpolargl"
           }
          ],
          "scatterternary": [
           {
            "marker": {
             "colorbar": {
              "outlinewidth": 0,
              "ticks": ""
             }
            },
            "type": "scatterternary"
           }
          ],
          "surface": [
           {
            "colorbar": {
             "outlinewidth": 0,
             "ticks": ""
            },
            "colorscale": [
             [
              0,
              "#0d0887"
             ],
             [
              0.1111111111111111,
              "#46039f"
             ],
             [
              0.2222222222222222,
              "#7201a8"
             ],
             [
              0.3333333333333333,
              "#9c179e"
             ],
             [
              0.4444444444444444,
              "#bd3786"
             ],
             [
              0.5555555555555556,
              "#d8576b"
             ],
             [
              0.6666666666666666,
              "#ed7953"
             ],
             [
              0.7777777777777778,
              "#fb9f3a"
             ],
             [
              0.8888888888888888,
              "#fdca26"
             ],
             [
              1,
              "#f0f921"
             ]
            ],
            "type": "surface"
           }
          ],
          "table": [
           {
            "cells": {
             "fill": {
              "color": "#EBF0F8"
             },
             "line": {
              "color": "white"
             }
            },
            "header": {
             "fill": {
              "color": "#C8D4E3"
             },
             "line": {
              "color": "white"
             }
            },
            "type": "table"
           }
          ]
         },
         "layout": {
          "annotationdefaults": {
           "arrowcolor": "#2a3f5f",
           "arrowhead": 0,
           "arrowwidth": 1
          },
          "autotypenumbers": "strict",
          "coloraxis": {
           "colorbar": {
            "outlinewidth": 0,
            "ticks": ""
           }
          },
          "colorscale": {
           "diverging": [
            [
             0,
             "#8e0152"
            ],
            [
             0.1,
             "#c51b7d"
            ],
            [
             0.2,
             "#de77ae"
            ],
            [
             0.3,
             "#f1b6da"
            ],
            [
             0.4,
             "#fde0ef"
            ],
            [
             0.5,
             "#f7f7f7"
            ],
            [
             0.6,
             "#e6f5d0"
            ],
            [
             0.7,
             "#b8e186"
            ],
            [
             0.8,
             "#7fbc41"
            ],
            [
             0.9,
             "#4d9221"
            ],
            [
             1,
             "#276419"
            ]
           ],
           "sequential": [
            [
             0,
             "#0d0887"
            ],
            [
             0.1111111111111111,
             "#46039f"
            ],
            [
             0.2222222222222222,
             "#7201a8"
            ],
            [
             0.3333333333333333,
             "#9c179e"
            ],
            [
             0.4444444444444444,
             "#bd3786"
            ],
            [
             0.5555555555555556,
             "#d8576b"
            ],
            [
             0.6666666666666666,
             "#ed7953"
            ],
            [
             0.7777777777777778,
             "#fb9f3a"
            ],
            [
             0.8888888888888888,
             "#fdca26"
            ],
            [
             1,
             "#f0f921"
            ]
           ],
           "sequentialminus": [
            [
             0,
             "#0d0887"
            ],
            [
             0.1111111111111111,
             "#46039f"
            ],
            [
             0.2222222222222222,
             "#7201a8"
            ],
            [
             0.3333333333333333,
             "#9c179e"
            ],
            [
             0.4444444444444444,
             "#bd3786"
            ],
            [
             0.5555555555555556,
             "#d8576b"
            ],
            [
             0.6666666666666666,
             "#ed7953"
            ],
            [
             0.7777777777777778,
             "#fb9f3a"
            ],
            [
             0.8888888888888888,
             "#fdca26"
            ],
            [
             1,
             "#f0f921"
            ]
           ]
          },
          "colorway": [
           "#636efa",
           "#EF553B",
           "#00cc96",
           "#ab63fa",
           "#FFA15A",
           "#19d3f3",
           "#FF6692",
           "#B6E880",
           "#FF97FF",
           "#FECB52"
          ],
          "font": {
           "color": "#2a3f5f"
          },
          "geo": {
           "bgcolor": "white",
           "lakecolor": "white",
           "landcolor": "#E5ECF6",
           "showlakes": true,
           "showland": true,
           "subunitcolor": "white"
          },
          "hoverlabel": {
           "align": "left"
          },
          "hovermode": "closest",
          "mapbox": {
           "style": "light"
          },
          "paper_bgcolor": "white",
          "plot_bgcolor": "#E5ECF6",
          "polar": {
           "angularaxis": {
            "gridcolor": "white",
            "linecolor": "white",
            "ticks": ""
           },
           "bgcolor": "#E5ECF6",
           "radialaxis": {
            "gridcolor": "white",
            "linecolor": "white",
            "ticks": ""
           }
          },
          "scene": {
           "xaxis": {
            "backgroundcolor": "#E5ECF6",
            "gridcolor": "white",
            "gridwidth": 2,
            "linecolor": "white",
            "showbackground": true,
            "ticks": "",
            "zerolinecolor": "white"
           },
           "yaxis": {
            "backgroundcolor": "#E5ECF6",
            "gridcolor": "white",
            "gridwidth": 2,
            "linecolor": "white",
            "showbackground": true,
            "ticks": "",
            "zerolinecolor": "white"
           },
           "zaxis": {
            "backgroundcolor": "#E5ECF6",
            "gridcolor": "white",
            "gridwidth": 2,
            "linecolor": "white",
            "showbackground": true,
            "ticks": "",
            "zerolinecolor": "white"
           }
          },
          "shapedefaults": {
           "line": {
            "color": "#2a3f5f"
           }
          },
          "ternary": {
           "aaxis": {
            "gridcolor": "white",
            "linecolor": "white",
            "ticks": ""
           },
           "baxis": {
            "gridcolor": "white",
            "linecolor": "white",
            "ticks": ""
           },
           "bgcolor": "#E5ECF6",
           "caxis": {
            "gridcolor": "white",
            "linecolor": "white",
            "ticks": ""
           }
          },
          "title": {
           "x": 0.05
          },
          "xaxis": {
           "automargin": true,
           "gridcolor": "white",
           "linecolor": "white",
           "ticks": "",
           "title": {
            "standoff": 15
           },
           "zerolinecolor": "white",
           "zerolinewidth": 2
          },
          "yaxis": {
           "automargin": true,
           "gridcolor": "white",
           "linecolor": "white",
           "ticks": "",
           "title": {
            "standoff": 15
           },
           "zerolinecolor": "white",
           "zerolinewidth": 2
          }
         }
        },
        "title": {
         "text": "Term Frequency distribution"
        }
       }
      }
     },
     "metadata": {},
     "output_type": "display_data"
    }
   ],
   "source": [
    "x = [x[0] for x in sorted_paired_values[:30]]\n",
    "y = [y[1] for y in sorted_paired_values[:30]]\n",
    "\n",
    "trace = go.Bar(x = x, y = y)\n",
    "data = [trace]\n",
    "layout = go.Layout(title = 'Term Frequency distribution')\n",
    "fig = go.Figure(data = data, layout = layout)\n",
    "fig.show()"
   ]
  },
  {
   "cell_type": "markdown",
   "metadata": {},
   "source": [
    "### Exercise 15 (take home):"
   ]
  },
  {
   "cell_type": "code",
   "execution_count": 32,
   "metadata": {},
   "outputs": [
    {
     "data": {
      "text/plain": [
       "[Text(0, 0, 'the'),\n",
       " Text(1, 0, 'of'),\n",
       " Text(2, 0, 'to'),\n",
       " Text(3, 0, 'and'),\n",
       " Text(4, 0, 'is'),\n",
       " Text(5, 0, 'in'),\n",
       " Text(6, 0, 'that'),\n",
       " Text(7, 0, 'it'),\n",
       " Text(8, 0, 'you'),\n",
       " Text(9, 0, 'for'),\n",
       " Text(10, 0, 'not'),\n",
       " Text(11, 0, 'this'),\n",
       " Text(12, 0, 'be'),\n",
       " Text(13, 0, 'from'),\n",
       " Text(14, 0, 'are'),\n",
       " Text(15, 0, 'edu'),\n",
       " Text(16, 0, 'have'),\n",
       " Text(17, 0, 'as'),\n",
       " Text(18, 0, 'on'),\n",
       " Text(19, 0, 'with'),\n",
       " Text(20, 0, 'but'),\n",
       " Text(21, 0, 'or'),\n",
       " Text(22, 0, 'if'),\n",
       " Text(23, 0, 'was'),\n",
       " Text(24, 0, 'can'),\n",
       " Text(25, 0, 'we'),\n",
       " Text(26, 0, 'there'),\n",
       " Text(27, 0, 'by'),\n",
       " Text(28, 0, 'what'),\n",
       " Text(29, 0, 'subject'),\n",
       " Text(30, 0, 'they'),\n",
       " Text(31, 0, 'an'),\n",
       " Text(32, 0, 'lines'),\n",
       " Text(33, 0, 'one'),\n",
       " Text(34, 0, 'he'),\n",
       " Text(35, 0, 'god'),\n",
       " Text(36, 0, 'do'),\n",
       " Text(37, 0, 'organization'),\n",
       " Text(38, 0, 'at'),\n",
       " Text(39, 0, 're'),\n",
       " Text(40, 0, 'com'),\n",
       " Text(41, 0, 'about'),\n",
       " Text(42, 0, 'my'),\n",
       " Text(43, 0, 'all'),\n",
       " Text(44, 0, 'would'),\n",
       " Text(45, 0, 'will'),\n",
       " Text(46, 0, 'so'),\n",
       " Text(47, 0, 'some'),\n",
       " Text(48, 0, 'your'),\n",
       " Text(49, 0, 'no'),\n",
       " Text(50, 0, 'who'),\n",
       " Text(51, 0, 'has'),\n",
       " Text(52, 0, 'any'),\n",
       " Text(53, 0, 'writes'),\n",
       " Text(54, 0, 'people'),\n",
       " Text(55, 0, 'which'),\n",
       " Text(56, 0, 'me'),\n",
       " Text(57, 0, 'article'),\n",
       " Text(58, 0, 'don'),\n",
       " Text(59, 0, 'his'),\n",
       " Text(60, 0, 'more'),\n",
       " Text(61, 0, 'other'),\n",
       " Text(62, 0, 'know'),\n",
       " Text(63, 0, 'when'),\n",
       " Text(64, 0, 'think'),\n",
       " Text(65, 0, 'their'),\n",
       " Text(66, 0, 'like'),\n",
       " Text(67, 0, 'university'),\n",
       " Text(68, 0, 'does'),\n",
       " Text(69, 0, 'out'),\n",
       " Text(70, 0, 'just'),\n",
       " Text(71, 0, 'only'),\n",
       " Text(72, 0, 'how'),\n",
       " Text(73, 0, 'also'),\n",
       " Text(74, 0, 'been'),\n",
       " Text(75, 0, 'than'),\n",
       " Text(76, 0, 'were'),\n",
       " Text(77, 0, 'then'),\n",
       " Text(78, 0, 'time'),\n",
       " Text(79, 0, 'because'),\n",
       " Text(80, 0, 'them'),\n",
       " Text(81, 0, 'posting'),\n",
       " Text(82, 0, 'up'),\n",
       " Text(83, 0, 'had'),\n",
       " Text(84, 0, 'am'),\n",
       " Text(85, 0, 'should'),\n",
       " Text(86, 0, 'may'),\n",
       " Text(87, 0, 'these'),\n",
       " Text(88, 0, 'many'),\n",
       " Text(89, 0, 'say'),\n",
       " Text(90, 0, 'jesus'),\n",
       " Text(91, 0, 'see'),\n",
       " Text(92, 0, 'why'),\n",
       " Text(93, 0, 'us'),\n",
       " Text(94, 0, 'get'),\n",
       " Text(95, 0, 'good'),\n",
       " Text(96, 0, 'very'),\n",
       " Text(97, 0, 'believe'),\n",
       " Text(98, 0, 'use'),\n",
       " Text(99, 0, 'such'),\n",
       " Text(100, 0, 'even'),\n",
       " Text(101, 0, 'our'),\n",
       " Text(102, 0, 'could'),\n",
       " Text(103, 0, 'well'),\n",
       " Text(104, 0, 'host'),\n",
       " Text(105, 0, 'most'),\n",
       " Text(106, 0, 'cs'),\n",
       " Text(107, 0, 'those'),\n",
       " Text(108, 0, 'being'),\n",
       " Text(109, 0, 'nntp'),\n",
       " Text(110, 0, 'way'),\n",
       " Text(111, 0, 'new'),\n",
       " Text(112, 0, 'world'),\n",
       " Text(113, 0, 'much'),\n",
       " Text(114, 0, 'now'),\n",
       " Text(115, 0, 'into'),\n",
       " Text(116, 0, 'here'),\n",
       " Text(117, 0, 'graphics'),\n",
       " Text(118, 0, 'question'),\n",
       " Text(119, 0, 'something'),\n",
       " Text(120, 0, 'him'),\n",
       " Text(121, 0, 'must'),\n",
       " Text(122, 0, 'where'),\n",
       " Text(123, 0, 'things'),\n",
       " Text(124, 0, 'image'),\n",
       " Text(125, 0, 've'),\n",
       " Text(126, 0, 'science'),\n",
       " Text(127, 0, 'anyone'),\n",
       " Text(128, 0, 'make'),\n",
       " Text(129, 0, 'said'),\n",
       " Text(130, 0, 'did'),\n",
       " Text(131, 0, 'christian'),\n",
       " Text(132, 0, 'find'),\n",
       " Text(133, 0, 'two'),\n",
       " Text(134, 0, 'bible'),\n",
       " Text(135, 0, 'first'),\n",
       " Text(136, 0, 'point'),\n",
       " Text(137, 0, 'need'),\n",
       " Text(138, 0, 'same'),\n",
       " Text(139, 0, 'system'),\n",
       " Text(140, 0, 'true'),\n",
       " Text(141, 0, 'reply'),\n",
       " Text(142, 0, 'since'),\n",
       " Text(143, 0, 'its'),\n",
       " Text(144, 0, 'read'),\n",
       " Text(145, 0, 'christians'),\n",
       " Text(146, 0, 'ca'),\n",
       " Text(147, 0, 'too'),\n",
       " Text(148, 0, 'after'),\n",
       " Text(149, 0, '1993'),\n",
       " Text(150, 0, 'life'),\n",
       " Text(151, 0, 'want'),\n",
       " Text(152, 0, 'right'),\n",
       " Text(153, 0, 'church'),\n",
       " Text(154, 0, 'really'),\n",
       " Text(155, 0, 'she'),\n",
       " Text(156, 0, 'problem'),\n",
       " Text(157, 0, 'over'),\n",
       " Text(158, 0, 'without'),\n",
       " Text(159, 0, 'faith'),\n",
       " Text(160, 0, 'computer'),\n",
       " Text(161, 0, 'information'),\n",
       " Text(162, 0, 'used'),\n",
       " Text(163, 0, 'please'),\n",
       " Text(164, 0, 'help'),\n",
       " Text(165, 0, 'work'),\n",
       " Text(166, 0, 'etc'),\n",
       " Text(167, 0, 'take'),\n",
       " Text(168, 0, 'evidence'),\n",
       " Text(169, 0, 'years'),\n",
       " Text(170, 0, 'might'),\n",
       " Text(171, 0, 'uk'),\n",
       " Text(172, 0, 'however'),\n",
       " Text(173, 0, 'before'),\n",
       " Text(174, 0, 'day'),\n",
       " Text(175, 0, 'own'),\n",
       " Text(176, 0, 'never'),\n",
       " Text(177, 0, 'go'),\n",
       " Text(178, 0, 'another'),\n",
       " Text(179, 0, 'both'),\n",
       " Text(180, 0, 'still'),\n",
       " Text(181, 0, 'mail'),\n",
       " Text(182, 0, 'different'),\n",
       " Text(183, 0, 'fact'),\n",
       " Text(184, 0, 'christ'),\n",
       " Text(185, 0, 'her'),\n",
       " Text(186, 0, 'atheists'),\n",
       " Text(187, 0, 'come'),\n",
       " Text(188, 0, 'made'),\n",
       " Text(189, 0, 'religion'),\n",
       " Text(190, 0, 'seems'),\n",
       " Text(191, 0, '10'),\n",
       " Text(192, 0, 'thing'),\n",
       " Text(193, 0, 'truth'),\n",
       " Text(194, 0, 'case'),\n",
       " Text(195, 0, 'through'),\n",
       " Text(196, 0, 'doesn'),\n",
       " Text(197, 0, 'anything'),\n",
       " Text(198, 0, 'course'),\n",
       " Text(199, 0, 'group'),\n",
       " Text(200, 0, 'book'),\n",
       " Text(201, 0, 'll'),\n",
       " Text(202, 0, 'mean'),\n",
       " Text(203, 0, 'law'),\n",
       " Text(204, 0, 'sure'),\n",
       " Text(205, 0, 'someone'),\n",
       " Text(206, 0, 'research'),\n",
       " Text(207, 0, 'reason'),\n",
       " Text(208, 0, 'human'),\n",
       " Text(209, 0, 'pitt'),\n",
       " Text(210, 0, 'rather'),\n",
       " Text(211, 0, 'example'),\n",
       " Text(212, 0, 'few'),\n",
       " Text(213, 0, 'file'),\n",
       " Text(214, 0, 'part'),\n",
       " Text(215, 0, 'back'),\n",
       " Text(216, 0, 'keith'),\n",
       " Text(217, 0, 'thanks'),\n",
       " Text(218, 0, 'better'),\n",
       " Text(219, 0, 'john'),\n",
       " Text(220, 0, 'available'),\n",
       " Text(221, 0, 'every'),\n",
       " Text(222, 0, 'software'),\n",
       " Text(223, 0, 'while'),\n",
       " Text(224, 0, 'program'),\n",
       " Text(225, 0, 'version'),\n",
       " Text(226, 0, 'apr'),\n",
       " Text(227, 0, 'david'),\n",
       " Text(228, 0, 'wrong'),\n",
       " Text(229, 0, 'long'),\n",
       " Text(230, 0, 'bit'),\n",
       " Text(231, 0, 'atheism'),\n",
       " Text(232, 0, 'nothing'),\n",
       " Text(233, 0, 'little'),\n",
       " Text(234, 0, 'number'),\n",
       " Text(235, 0, '20'),\n",
       " Text(236, 0, 'man'),\n",
       " Text(237, 0, 'non'),\n",
       " Text(238, 0, 'between'),\n",
       " Text(239, 0, 'others'),\n",
       " Text(240, 0, 'least'),\n",
       " Text(241, 0, 'free'),\n",
       " Text(242, 0, 'post'),\n",
       " Text(243, 0, 'using'),\n",
       " Text(244, 0, 'distribution'),\n",
       " Text(245, 0, 'person'),\n",
       " Text(246, 0, 'real'),\n",
       " Text(247, 0, 'again'),\n",
       " Text(248, 0, 'msg'),\n",
       " Text(249, 0, 'cannot'),\n",
       " Text(250, 0, 'hell'),\n",
       " Text(251, 0, 'probably'),\n",
       " Text(252, 0, 'says'),\n",
       " Text(253, 0, 'data'),\n",
       " Text(254, 0, 'lot'),\n",
       " Text(255, 0, 'ac'),\n",
       " Text(256, 0, 'going'),\n",
       " Text(257, 0, 'possible'),\n",
       " Text(258, 0, 'found'),\n",
       " Text(259, 0, 'state'),\n",
       " Text(260, 0, 'name'),\n",
       " Text(261, 0, 'sgi'),\n",
       " Text(262, 0, 'each'),\n",
       " Text(263, 0, 'medical'),\n",
       " Text(264, 0, 'look'),\n",
       " Text(265, 0, 'called'),\n",
       " Text(266, 0, 'quite'),\n",
       " Text(267, 0, '15'),\n",
       " Text(268, 0, 'files'),\n",
       " Text(269, 0, 'under'),\n",
       " Text(270, 0, 'best'),\n",
       " Text(271, 0, 'christianity'),\n",
       " Text(272, 0, 'whether'),\n",
       " Text(273, 0, 'though'),\n",
       " Text(274, 0, 'argument'),\n",
       " Text(275, 0, 'based'),\n",
       " Text(276, 0, 'off'),\n",
       " Text(277, 0, 'give'),\n",
       " Text(278, 0, 'tell'),\n",
       " Text(279, 0, 'try'),\n",
       " Text(280, 0, 'either'),\n",
       " Text(281, 0, 'enough'),\n",
       " Text(282, 0, 'exist'),\n",
       " Text(283, 0, 'gordon'),\n",
       " Text(284, 0, 'jpeg'),\n",
       " Text(285, 0, 'actually'),\n",
       " Text(286, 0, 'rutgers'),\n",
       " Text(287, 0, 'word'),\n",
       " Text(288, 0, '16'),\n",
       " Text(289, 0, 'cc'),\n",
       " Text(290, 0, 'health'),\n",
       " Text(291, 0, 'let'),\n",
       " Text(292, 0, 'far'),\n",
       " Text(293, 0, 'banks'),\n",
       " Text(294, 0, 'news'),\n",
       " Text(295, 0, 'claim'),\n",
       " Text(296, 0, 'yet'),\n",
       " Text(297, 0, 'last'),\n",
       " Text(298, 0, 'mark'),\n",
       " Text(299, 0, '24')]"
      ]
     },
     "execution_count": 32,
     "metadata": {},
     "output_type": "execute_result"
    },
    {
     "data": {
      "image/png": "[encoded data removed]",
      "text/plain": [
       "<Figure size 10000x1000 with 1 Axes>"
      ]
     },
     "metadata": {},
     "output_type": "display_data"
    }
   ],
   "source": [
    "# The plot is way more smoothed out, the values are not as extreme as before\n",
    "\n",
    "# The log operation can be used to scale down the differences between the values, \n",
    "# making it easier to compare them if the distribution is too skewed.\n",
    "\n",
    "# sort term frequencies with the feature names\n",
    "paired_values = list(zip(count_vect.get_feature_names_out(), term_frequencies_log))\n",
    "sorted_paired_values = sorted(paired_values, key=lambda x: x[1], reverse=True)\n",
    "\n",
    "x = [x[0] for x in sorted_paired_values[:300]]\n",
    "y = [y[1] for y in sorted_paired_values[:300]]\n",
    "\n",
    "# plot the sorted term frequencies\n",
    "plt.subplots(figsize=(100, 10))\n",
    "g = sns.barplot(x=x, y=y)\n",
    "g.set_xticklabels(x, rotation = 90)"
   ]
  },
  {
   "cell_type": "markdown",
   "metadata": {},
   "source": []
  },
  {
   "cell_type": "code",
   "execution_count": null,
   "metadata": {},
   "outputs": [],
   "source": []
  }
 ],
 "metadata": {
  "kernelspec": {
   "display_name": "Python 3 (ipykernel)",
   "language": "python",
   "name": "python3"
  },
  "language_info": {
   "codemirror_mode": {
    "name": "ipython",
    "version": 3
   },
   "file_extension": ".py",
   "mimetype": "text/x-python",
   "name": "python",
   "nbconvert_exporter": "python",
   "pygments_lexer": "ipython3",
   "version": "3.10.3"
  }
 },
 "nbformat": 4,
 "nbformat_minor": 2
}
